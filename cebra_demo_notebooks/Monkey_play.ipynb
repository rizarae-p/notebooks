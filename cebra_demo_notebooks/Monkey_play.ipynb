{
 "cells": [
  {
   "cell_type": "code",
   "execution_count": null,
   "id": "078a50e8",
   "metadata": {},
   "outputs": [],
   "source": [
    "import numpy as np\n",
    "import matplotlib.pyplot as plt\n",
    "from cebra import CEBRA\n",
    "import glob\n",
    "\n",
    "import torch\n",
    "import torchvision.transforms as transforms\n",
    "from torchvision.models import resnet50\n",
    "from PIL import Image"
   ]
  },
  {
   "cell_type": "code",
   "execution_count": null,
   "id": "8dcba983",
   "metadata": {},
   "outputs": [],
   "source": [
    "preprocess = transforms.Compose([\n",
    "    transforms.Resize(256),\n",
    "    transforms.CenterCrop(224),\n",
    "    transforms.ToTensor(),\n",
    "    transforms.Normalize(mean=[0.485, 0.456, 0.406], std=[0.229, 0.224, 0.225]),\n",
    "])\n",
    "feature_extractor = resnet50(pretrained=True)\n",
    "# feature_extractor.eval()"
   ]
  },
  {
   "cell_type": "code",
   "execution_count": null,
   "id": "b6a4d694",
   "metadata": {},
   "outputs": [],
   "source": [
    "monkey_directory = \"data/monkey_play/frames/\"\n",
    "monkey_paths = sorted(glob.glob(monkey_directory+\"*.png\"))\n",
    "monkey_play_labels = [0,0,0,1,1,1,1,1,1,1]"
   ]
  },
  {
   "cell_type": "code",
   "execution_count": null,
   "id": "e0b2f969",
   "metadata": {},
   "outputs": [],
   "source": [
    "monkey_play_features = []\n",
    "monkey_play_features_labels = []\n",
    "with torch.no_grad():\n",
    "    for x in range(len(monkey_paths)):\n",
    "        input_tensor = preprocess(Image.open(monkey_paths[x]).convert(\"RGB\"))\n",
    "        input_batch = input_tensor.unsqueeze(0)\n",
    "        features = feature_extractor(input_batch)\n",
    "        monkey_play_features_labels.append(torch.full(features_shape,fill_value=monkey_play_labels[x]))\n",
    "        monkey_play_features.append(features)\n",
    "               \n",
    "monkey_play_features = torch.cat(monkey_play_features,dim=0)\n",
    "monkey_play_features_labels = torch.cat(monkey_play_features_labels,dim=0)\n",
    "\n",
    "print(monkey_play_features.shape,monkey_play_features_labels.shape)"
   ]
  },
  {
   "cell_type": "code",
   "execution_count": null,
   "id": "d2771884",
   "metadata": {},
   "outputs": [],
   "source": [
    "max_iterations = 5000 \n",
    "cebra_behavior_model = CEBRA(model_architecture='offset1-model',\n",
    "                        batch_size=1,\n",
    "                        learning_rate=3e-4,\n",
    "                        temperature=1,\n",
    "                        output_dimension=3,\n",
    "                        max_iterations=max_iterations,\n",
    "                        distance='cosine',\n",
    "                        conditional='time_delta',\n",
    "                        device='cpu',\n",
    "                        verbose=True,\n",
    "                        time_offsets=1,\n",
    "                        )"
   ]
  },
  {
   "cell_type": "code",
   "execution_count": null,
   "id": "c838cd3a",
   "metadata": {},
   "outputs": [],
   "source": [
    "cebra_behavior_model.fit(monkey_play_features, monkey_play_feature_labels)"
   ]
  },
  {
   "cell_type": "code",
   "execution_count": null,
   "id": "ee0f700d",
   "metadata": {},
   "outputs": [],
   "source": [
    "cebra_behavior_model.save(\"cebra_monkey_play_model.pt\")"
   ]
  }
 ],
 "metadata": {
  "kernelspec": {
   "display_name": "cebra",
   "language": "python",
   "name": "cebra"
  },
  "language_info": {
   "codemirror_mode": {
    "name": "ipython",
    "version": 3
   },
   "file_extension": ".py",
   "mimetype": "text/x-python",
   "name": "python",
   "nbconvert_exporter": "python",
   "pygments_lexer": "ipython3",
   "version": "3.9.16"
  }
 },
 "nbformat": 4,
 "nbformat_minor": 5
}
